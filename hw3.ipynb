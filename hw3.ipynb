{
 "cells": [
  {
   "cell_type": "code",
   "execution_count": 8,
   "metadata": {},
   "outputs": [],
   "source": [
    "import numpy as np\n",
    "import matplotlib.pyplot as plt\n",
    "\n",
    "from astropy import units as u\n",
    "from astropy import constants as c\n",
    "from astropy.modeling.models import BlackBody\n",
    "\n",
    "from astro530 import Planck, NIntegrate"
   ]
  },
  {
   "cell_type": "code",
   "execution_count": 9,
   "metadata": {},
   "outputs": [],
   "source": [
    "plt.rcParams['axes.labelsize'] = 12\n",
    "plt.rcParams['axes.titlesize'] = 14"
   ]
  },
  {
   "cell_type": "code",
   "execution_count": 31,
   "metadata": {},
   "outputs": [],
   "source": [
    "def S_nu(tau, a):\n",
    "    '''\n",
    "    Inputs:\n",
    "        tau - optical depth\n",
    "        a - coefficients to the source function, array of length n\n",
    "    Output:\n",
    "        Source function Sum(a_n t^n)\n",
    "    '''\n",
    "    terms = np.zeros((len(a), len(tau)))\n",
    "    for i in range(len(a)):\n",
    "        terms[i] = a[i] * tau ** i\n",
    "    return np.sum(terms, axis = 0)\n",
    "\n",
    "def emergent_I(S_nu, a, mu = 1):\n",
    "    \n",
    "    tau = np.linspace(0, 100, 1000)\n",
    "    \n",
    "    integrand = S_nu(tau, a) * np.exp(-tau / mu) / mu\n",
    "    \n",
    "    return np.trapz(integrand, tau)\n",
    "    "
   ]
  },
  {
   "cell_type": "code",
   "execution_count": 33,
   "metadata": {},
   "outputs": [],
   "source": [
    "tau = np.linspace(0, 100, 1000)\n",
    "I_0 = emergent_I(S_nu, a = [1, 1, 0.001])"
   ]
  },
  {
   "cell_type": "code",
   "execution_count": 35,
   "metadata": {},
   "outputs": [
    {
     "data": {
      "text/plain": [
       "<matplotlib.collections.LineCollection at 0x1ff7afd04f0>"
      ]
     },
     "execution_count": 35,
     "metadata": {},
     "output_type": "execute_result"
    },
    {
     "data": {
      "image/png": "[encoded data removed]",
      "text/plain": [
       "<Figure size 432x288 with 1 Axes>"
      ]
     },
     "metadata": {
      "needs_background": "light"
     },
     "output_type": "display_data"
    }
   ],
   "source": [
    "plt.plot(tau, S_nu(tau, a = [1, 1, 0.001]))\n",
    "plt.plot(tau, 1 + tau, '--')\n",
    "plt.hlines(I_0, 0, 100,)"
   ]
  },
  {
   "cell_type": "code",
   "execution_count": null,
   "metadata": {},
   "outputs": [],
   "source": []
  }
 ],
 "metadata": {
  "kernelspec": {
   "display_name": "Python 3",
   "language": "python",
   "name": "python3"
  },
  "language_info": {
   "codemirror_mode": {
    "name": "ipython",
    "version": 3
   },
   "file_extension": ".py",
   "mimetype": "text/x-python",
   "name": "python",
   "nbconvert_exporter": "python",
   "pygments_lexer": "ipython3",
   "version": "3.8.5"
  }
 },
 "nbformat": 4,
 "nbformat_minor": 4
}
