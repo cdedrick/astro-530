{
 "cells": [
  {
   "cell_type": "code",
   "execution_count": 2,
   "metadata": {},
   "outputs": [],
   "source": [
    "import numpy as np\n",
    "import matplotlib.pyplot as plt\n",
    "import pandas as pd\n",
    "\n",
    "from astropy import units as u\n",
    "from astropy import constants as c\n",
    "from scipy.optimize import newton\n",
    "\n",
    "from astro530 import partition, saha_phi\n",
    "\n",
    "plt.rcParams['axes.xmargin'] = 0\n",
    "plt.rcParams['axes.ymargin'] = 0\n",
    "plt.rcParams['axes.labelsize'] = 12\n",
    "plt.rcParams['legend.fontsize'] = 11"
   ]
  },
  {
   "cell_type": "markdown",
   "metadata": {},
   "source": [
    "### 17. Finding $P_e$ from $T$ and $P_g$"
   ]
  },
  {
   "cell_type": "code",
   "execution_count": 3,
   "metadata": {},
   "outputs": [],
   "source": [
    "u_table = pd.read_table('./data/RepairedPartitionFunctions.txt', header=None, na_values='-', delim_whitespace=True)\n",
    "u_table = u_table.set_index(0)\n",
    "\n",
    "i_table = pd.read_table('./data/nist_ioniz.txt', header=None , delim_whitespace= True)\n",
    "i_table = i_table.set_index(1)"
   ]
  },
  {
   "cell_type": "code",
   "execution_count": 4,
   "metadata": {},
   "outputs": [],
   "source": [
    "A_table = pd.read_table('./data/SolarAbundance.txt', delim_whitespace= True)\n",
    "A_table.dropna(inplace=True)\n",
    "\n",
    "elements = A_table['element'].to_list()\n",
    "elements.remove('Li')\n",
    "elements.remove('Cs')\n",
    "\n",
    "A_table = A_table.set_index('element')"
   ]
  },
  {
   "cell_type": "markdown",
   "metadata": {},
   "source": [
    "#### (a)"
   ]
  },
  {
   "cell_type": "code",
   "execution_count": 5,
   "metadata": {},
   "outputs": [],
   "source": [
    "def eq9_8(Pe, Pg, A_j, Phi_j):\n",
    "    num = np.sum(A_j * (Phi_j/Pe) / (1 + Phi_j/Pe))\n",
    "    denom = np.sum(A_j * (1 + (Phi_j/Pe) / (1 + Phi_j/Pe)))\n",
    "    return Pg * num/denom\n",
    "\n",
    "def iterate_Pe(Pe, Pg, A_j, Phi_j, tol=1e-8):\n",
    "    diff = np.inf\n",
    "    while diff > tol:\n",
    "        Pe_new = eq9_8(Pe, Pg, A_j, Phi_j)\n",
    "        diff = np.abs(Pe - Pe_new).value\n",
    "        Pe = Pe_new\n",
    "    return Pe"
   ]
  },
  {
   "cell_type": "markdown",
   "metadata": {},
   "source": [
    "`iterate_Pe` takes an initial guess of $P_e$, as well as $P_g$ and an array of $A_j$ and $\\Phi_j(T)$ for every element $j$ for which we have abundances, partition functions, and ionization energies. Starting at our intial guess it plugs $P_e$ into the RHS of Equation (9.8) $$P_e = P_g \\frac{\\sum A_j \\frac{\\Phi_j(T) /P_e}{1 + \\Phi_j(T) /P_e}}{\\sum A_j \\left[1 + \\frac{\\Phi_j(T) /P_e}{1 + \\Phi_j(T) /P_e}\\right]}$$ \n",
    "We plug that new value of $P_e$ into the equation until the value converges. ($|{P_e}^{old} - {P_e}^{new}| <=$ some tolerance, which I set to be $10^{-8}$."
   ]
  },
  {
   "cell_type": "code",
   "execution_count": 6,
   "metadata": {},
   "outputs": [],
   "source": [
    "def P_e(T, log_Pg, A_table = A_table, elements = elements):\n",
    "    '''\n",
    "    Inputs:\n",
    "        T - temperature\n",
    "        log_Pg - gas pressure\n",
    "    Output:\n",
    "        electron pressure, as shown in Gray Eq. (9.8)\n",
    "    '''\n",
    "    \n",
    "    Pg = 10 ** log_Pg * u.barye\n",
    "    \n",
    "    A_j = A_table.loc[elements]['A'].to_numpy()\n",
    "    Phi_j = u.Quantity([saha_phi(element, T, i_table, u_table) for element in elements])\n",
    "    Phi_H = saha_phi('H', T, i_table, u_table)\n",
    "    \n",
    "    if T > 30000:\n",
    "        Pe_guess = 0.5 * P_g \n",
    "    else:\n",
    "        Pe_guess = np.sqrt(Pg * Phi_H)\n",
    "        \n",
    "    P_e = iterate_Pe(Pe_guess, Pg, A_j, Phi_j)\n",
    "    \n",
    "    return P_e"
   ]
  },
  {
   "cell_type": "markdown",
   "metadata": {},
   "source": [
    "`P_e` wraps `iterate_Pe`. It takes as input $T$, $\\log P_g$, a table of abundances, and the list of elements that you want to include in the calculation of $P_e$. From those values, we can choose an initial guess for $P_e$\n",
    "\n",
    "\\begin{equation}\n",
    "    P_e =\n",
    "    \\begin{cases} \n",
    "      (P_g \\Phi_H(T))^{1/2} & T < 30000 K \\\\\n",
    "      \\frac{1}{2}P_g & T > 30000 K \\\\\n",
    "   \\end{cases}\n",
    "\\end{equation}\n",
    "\n",
    "and then iterate to find the true value."
   ]
  },
  {
   "cell_type": "code",
   "execution_count": 7,
   "metadata": {},
   "outputs": [],
   "source": [
    "# calculate Pe for the values of T, Pg in Table 9.2 \n",
    "\n",
    "T = np.array([4310, 4325, 4345, 4370, 4405, 4445, 4488, 4524, 4561, 4608, 4660, 4720, 4800, 4878, \n",
    "                   4995, 5132, 5294, 5490, 5733, 6043, 6429, 6904, 7467, 7962, 8358, 8630, 8811])\n",
    "log_Pg = np.array([2.87, 3.03, 3.17, 3.29, 3.41, 3.52, 3.64, 3.75, 3.86, 3.97, 4.08, 4.19, 4.30, 4.41, 4.52, 4.63, 4.74, \n",
    "                   4.85, 4.95, 5.03, 5.10, 5.15, 5.18, 5.21, 5.23, 5.26, 5.29])\n",
    "\n",
    "Pe_calc = u.Quantity([P_e(T[i], log_Pg[i]) for i in range(len(T))])\n",
    "log_Pe_calc = np.log10(Pe_calc.value)\n",
    "\n",
    "# and compare to Pe from Table 9.2\n",
    "log_Pe = np.array([-1.16, -1.02, -0.89, -0.78, -0.66, -0.55, -0.44, -0.33, -0.23, -0.12, -0.01, 0.10, 0.22, 0.34, 0.47, \n",
    "                    0.61, 0.76, 0.93, 1.15, 1.43, 1.78, 2.18, 2.59, 2.92, 3.16, 3.32, 3.42])"
   ]
  },
  {
   "cell_type": "code",
   "execution_count": 14,
   "metadata": {
    "scrolled": false
   },
   "outputs": [
    {
     "data": {
      "image/png": "[encoded data removed]",
      "text/plain": [
       "<Figure size 540x331.2 with 3 Axes>"
      ]
     },
     "metadata": {
      "needs_background": "light"
     },
     "output_type": "display_data"
    }
   ],
   "source": [
    "fig, axs = plt.subplots(2, 1, figsize = (7.5,4.6),  gridspec_kw = {'hspace': 0.05}) # gridspec_kw = {'wspace': 0.22, 'width_ratios':[7,8]})\n",
    "ax1, ax2 = axs\n",
    "\n",
    "\n",
    "diag = np.linspace(-1.6, 3.8)\n",
    "ax1.plot(diag, diag, color ='cyan', zorder = 0)\n",
    "ax1.scatter(log_Pe, log_Pe_calc, 12, T)\n",
    "ax1.set_xticks([])\n",
    "ax1.set_ylabel(r'$\\log {P_e}^{calc}$')\n",
    "\n",
    "sc = ax2.scatter(log_Pe, 1 - Pe_calc.value/10 **log_Pe, 16, T)\n",
    "ax2.hlines(0, -1.3, 3.6, color ='cyan', zorder = 0)\n",
    "ax2.set_ylim(-0.052, 0.052)\n",
    "ax2.set_xlabel(r'$\\log P_e$ from Gray Table 9.2')\n",
    "ax2.set_ylabel('$1 - {P_e}^{Gray}/{P_e}^{calc}$')\n",
    "\n",
    "fig.colorbar(sc, ax = axs, label = r'$T$ (K)', shrink=0.8)\n",
    "plt.savefig('electron_P.png', bbox_inches='tight')"
   ]
  },
  {
   "cell_type": "markdown",
   "metadata": {},
   "source": [
    "#### (c)"
   ]
  },
  {
   "cell_type": "markdown",
   "metadata": {},
   "source": [
    "$$\\sum_{Z\\leq 30} A_j$$ $$\\sum_{Z\\leq 30} A_j \\mu_j$$"
   ]
  },
  {
   "cell_type": "code",
   "execution_count": 9,
   "metadata": {},
   "outputs": [
    {
     "name": "stdout",
     "output_type": "stream",
     "text": [
      "1.0861752053727\n",
      "1.3671076219525629\n"
     ]
    }
   ],
   "source": [
    "lightest = A_table.iloc[0:30]\n",
    "print(np.sum(lightest['A']))\n",
    "print(np.sum(lightest['A'] * lightest['weight']))"
   ]
  },
  {
   "cell_type": "markdown",
   "metadata": {},
   "source": [
    "#### (d)\n",
    "$$\\sum_{Z > 2} A_j$$\n",
    "$$\\sum_{Z > 2} A_j \\mu_j$$"
   ]
  },
  {
   "cell_type": "code",
   "execution_count": 10,
   "metadata": {},
   "outputs": [
    {
     "name": "stdout",
     "output_type": "stream",
     "text": [
      "0.001075212672199\n",
      "0.018453079261262224\n"
     ]
    }
   ],
   "source": [
    "metals = A_table.iloc[2:]\n",
    "print(np.sum(metals['A']))\n",
    "print(np.sum(metals['A'] * metals['weight']))"
   ]
  },
  {
   "cell_type": "code",
   "execution_count": 173,
   "metadata": {},
   "outputs": [],
   "source": [
    "#df = pd.DataFrame(np.transpose([T,log_Pg,log_Pe,log_Pe_calc]), columns=('T', 'Pg', 'Pe (Gray)', 'Pe (Calc)'))\n",
    "#print(df.to_latex(index=False, formatters = ['{:.0f}'.format, '{:.2f}'.format, '{:.2f}'.format, '{:.2f}'.format], column_format='cccc'))"
   ]
  },
  {
   "cell_type": "code",
   "execution_count": null,
   "metadata": {},
   "outputs": [],
   "source": []
  }
 ],
 "metadata": {
  "kernelspec": {
   "display_name": "Python 3",
   "language": "python",
   "name": "python3"
  },
  "language_info": {
   "codemirror_mode": {
    "name": "ipython",
    "version": 3
   },
   "file_extension": ".py",
   "mimetype": "text/x-python",
   "name": "python",
   "nbconvert_exporter": "python",
   "pygments_lexer": "ipython3",
   "version": "3.8.5"
  }
 },
 "nbformat": 4,
 "nbformat_minor": 4
}
