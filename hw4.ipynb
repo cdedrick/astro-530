{
 "cells": [
  {
   "cell_type": "markdown",
   "metadata": {},
   "source": [
    "# Astro 530 - Homework 4 "
   ]
  },
  {
   "cell_type": "code",
   "execution_count": 2,
   "metadata": {},
   "outputs": [],
   "source": [
    "import numpy as np\n",
    "import matplotlib.pyplot as plt\n",
    "\n",
    "from astropy import units as u\n",
    "from astropy import constants as c\n",
    "from scipy.integrate import simps\n",
    "\n",
    "from astro530 import _trapz"
   ]
  },
  {
   "cell_type": "code",
   "execution_count": 3,
   "metadata": {},
   "outputs": [],
   "source": [
    "plt.rcParams['axes.labelsize'] = 13\n",
    "plt.rcParams['legend.fontsize'] = 12"
   ]
  },
  {
   "cell_type": "code",
   "execution_count": 73,
   "metadata": {},
   "outputs": [],
   "source": [
    "def NIntegrate(func, a, b, density, log = True, unit = None, integrator = _trapz, **kwargs):\n",
    "    '''\n",
    "        Now improved to have log-spaced bins!\n",
    "        func - function to numerically integrate\n",
    "        a - lower bound\n",
    "        b - upper bound\n",
    "        density - number of subintervals per unit \n",
    "    '''\n",
    "    n = round((b - a) * density)\n",
    "    \n",
    "    if log:\n",
    "        x = np.logspace(a, b, n)\n",
    "        if unit != None:\n",
    "            x *= unit\n",
    "        y = x * func(x, **kwargs)\n",
    "        x = np.log(x)\n",
    "    else:\n",
    "        x = np.linspace(a, b, n)\n",
    "        if unit != None:\n",
    "            x *= unit\n",
    "        y = func(x, **kwargs)\n",
    "    \n",
    "    return _trapz(y, x)"
   ]
  },
  {
   "cell_type": "markdown",
   "metadata": {},
   "source": [
    "## 6. Exponential Integrals"
   ]
  },
  {
   "cell_type": "markdown",
   "metadata": {},
   "source": [
    "### a) "
   ]
  },
  {
   "cell_type": "code",
   "execution_count": 40,
   "metadata": {},
   "outputs": [],
   "source": [
    "from scipy.special import expn, exp1"
   ]
  },
  {
   "cell_type": "code",
   "execution_count": 41,
   "metadata": {},
   "outputs": [
    {
     "name": "stdout",
     "output_type": "stream",
     "text": [
      "expn(x1, x2, /, out=None, *, where=True, casting='same_kind', order='K', dtype=None, subok=True[, signature, extobj])\n",
      "\n",
      "expn(n, x, out=None)\n",
      "\n",
      "Generalized exponential integral En.\n",
      "\n",
      "For integer :math:`n \\geq 0` and real :math:`x \\geq 0` the\n",
      "generalized exponential integral is defined as [dlmf]_\n",
      "\n",
      ".. math::\n",
      "\n",
      "    E_n(x) = x^{n - 1} \\int_x^\\infty \\frac{e^{-t}}{t^n} dt.\n",
      "\n",
      "Parameters\n",
      "----------\n",
      "n: array_like\n",
      "    Non-negative integers\n",
      "x: array_like\n",
      "    Real argument\n",
      "out: ndarray, optional\n",
      "    Optional output array for the function results\n",
      "\n",
      "Returns\n",
      "-------\n",
      "scalar or ndarray\n",
      "    Values of the generalized exponential integral\n",
      "\n",
      "See Also\n",
      "--------\n",
      "exp1 : special case of :math:`E_n` for :math:`n = 1`\n",
      "expi : related to :math:`E_n` when :math:`n = 1`\n",
      "\n",
      "References\n",
      "----------\n",
      ".. [dlmf] Digital Library of Mathematical Functions, 8.19.2\n",
      "          https://dlmf.nist.gov/8.19#E2\n",
      "\n",
      "Examples\n",
      "--------\n",
      ">>> import scipy.special as sc\n",
      "\n",
      "Its domain is nonnegative n and x.\n",
      "\n",
      ">>> sc.expn(-1, 1.0), sc.expn(1, -1.0)\n",
      "(nan, nan)\n",
      "\n",
      "It has a pole at ``x = 0`` for ``n = 1, 2``; for larger ``n`` it\n",
      "is equal to ``1 / (n - 1)``.\n",
      "\n",
      ">>> sc.expn([0, 1, 2, 3, 4], 0)\n",
      "array([       inf,        inf, 1.        , 0.5       , 0.33333333])\n",
      "\n",
      "For n equal to 0 it reduces to ``exp(-x) / x``.\n",
      "\n",
      ">>> x = np.array([1, 2, 3, 4])\n",
      ">>> sc.expn(0, x)\n",
      "array([0.36787944, 0.06766764, 0.01659569, 0.00457891])\n",
      ">>> np.exp(-x) / x\n",
      "array([0.36787944, 0.06766764, 0.01659569, 0.00457891])\n",
      "\n",
      "For n equal to 1 it reduces to `exp1`.\n",
      "\n",
      ">>> sc.expn(1, x)\n",
      "array([0.21938393, 0.04890051, 0.01304838, 0.00377935])\n",
      ">>> sc.exp1(x)\n",
      "array([0.21938393, 0.04890051, 0.01304838, 0.00377935])\n"
     ]
    }
   ],
   "source": [
    "print(expn.__doc__)"
   ]
  },
  {
   "cell_type": "code",
   "execution_count": 110,
   "metadata": {},
   "outputs": [
    {
     "data": {
      "image/png": "[encoded data removed]",
      "text/plain": [
       "<Figure size 432x288 with 1 Axes>"
      ]
     },
     "metadata": {
      "needs_background": "light"
     },
     "output_type": "display_data"
    }
   ],
   "source": [
    "x = np.logspace(-10, 1)\n",
    "\n",
    "plt.plot(x, expn(1, x), label = '$n = 1$')\n",
    "plt.plot(x, expn(2, x), label = '$n = 2$')\n",
    "plt.plot(x, expn(3, x), label = '$n = 3$')\n",
    "\n",
    "plt.loglog()\n",
    "\n",
    "plt.ylabel('$E_n(x)$')\n",
    "plt.xlabel('$x$')\n",
    "plt.legend()\n",
    "\n",
    "plt.savefig('hw4_6a.1.png', bbox_inches = 'tight')\n",
    "plt.show()"
   ]
  },
  {
   "cell_type": "markdown",
   "metadata": {},
   "source": [
    "### b)"
   ]
  },
  {
   "cell_type": "code",
   "execution_count": 72,
   "metadata": {},
   "outputs": [
    {
     "data": {
      "text/plain": [
       "1.0"
      ]
     },
     "execution_count": 72,
     "metadata": {},
     "output_type": "execute_result"
    }
   ],
   "source": [
    "NIntegrate(exp1, -18, 2, 1000)"
   ]
  },
  {
   "cell_type": "code",
   "execution_count": 52,
   "metadata": {},
   "outputs": [],
   "source": [
    "def expn_precision(n, lower, upper, density):\n",
    "\n",
    "    def exp_n(x): return expn(n, x)\n",
    "    \n",
    "    true = 1 / n \n",
    "    calc = NIntegrate(exp_n, lower, upper, density)\n",
    "    \n",
    "    return np.abs(1 - calc/true)"
   ]
  },
  {
   "cell_type": "code",
   "execution_count": 107,
   "metadata": {
    "scrolled": false
   },
   "outputs": [
    {
     "data": {
      "image/png": "[encoded data removed]",
      "text/plain": [
       "<Figure size 288x180 with 1 Axes>"
      ]
     },
     "metadata": {
      "needs_background": "light"
     },
     "output_type": "display_data"
    }
   ],
   "source": [
    "low = np.linspace(-25, -5, 100)\n",
    "\n",
    "plt.figure(figsize = (4, 2.5))\n",
    "for i in range(3):\n",
    "    prec = [expn_precision(i + 1, a, 2, 1000) for a in low]\n",
    "    plt.plot(low, prec, label = 'n = ' + str(i + 1))\n",
    "    \n",
    "plt.legend()\n",
    "plt.semilogy()\n",
    "plt.xlabel('log lower limit')\n",
    "plt.ylabel('Precision')\n",
    "plt.savefig('hw4_6.1.png', bbox_inches = 'tight')\n",
    "plt.show()"
   ]
  },
  {
   "cell_type": "code",
   "execution_count": 108,
   "metadata": {},
   "outputs": [
    {
     "data": {
      "image/png": "[encoded data removed]",
      "text/plain": [
       "<Figure size 288x180 with 1 Axes>"
      ]
     },
     "metadata": {
      "needs_background": "light"
     },
     "output_type": "display_data"
    }
   ],
   "source": [
    "high = np.linspace(1.1, 5, 100)\n",
    "plt.figure(figsize = (4, 2.5))\n",
    "for i in range(3):\n",
    "    prec = [expn_precision(i + 1, -18, b, 1000) for b in high]\n",
    "    plt.plot(high, prec, label = 'n = ' + str(i + 1))\n",
    "    \n",
    "plt.legend()\n",
    "plt.semilogy()\n",
    "plt.xlabel('log upper limit')\n",
    "plt.ylabel('Precision')\n",
    "plt.savefig('hw4_6.2.png', bbox_inches = 'tight')\n",
    "plt.show()"
   ]
  },
  {
   "cell_type": "code",
   "execution_count": 109,
   "metadata": {},
   "outputs": [
    {
     "data": {
      "image/png": "[encoded data removed]",
      "text/plain": [
       "<Figure size 288x180 with 1 Axes>"
      ]
     },
     "metadata": {
      "needs_background": "light"
     },
     "output_type": "display_data"
    }
   ],
   "source": [
    "density = np.logspace(0.5, 5, 100)\n",
    "plt.figure(figsize = (4, 2.5))\n",
    "for i in range(3):\n",
    "    prec = [expn_precision(i+1, -18, 2, d) for d in density]\n",
    "    plt.plot(density, prec, label = 'n = ' + str(i + 1))\n",
    "    \n",
    "plt.legend()\n",
    "plt.loglog()\n",
    "plt.xlabel('density')\n",
    "plt.ylabel('Precision')\n",
    "plt.savefig('hw4_6.3.png', bbox_inches = 'tight')\n",
    "plt.show()"
   ]
  },
  {
   "cell_type": "markdown",
   "metadata": {},
   "source": [
    "## 8. Emergent Eddington Flux"
   ]
  },
  {
   "cell_type": "code",
   "execution_count": 154,
   "metadata": {},
   "outputs": [],
   "source": [
    "def S_nu(t):\n",
    "    return a0 + a1 * t + a2 * t ** 2\n",
    "\n",
    "def H_integrand(t):\n",
    "    return 1/2 * S_nu(t) * expn(2, t)\n",
    "\n",
    "def H_nu():\n",
    "    return NIntegrate(H_integrand, -18, 2, 100)"
   ]
  },
  {
   "cell_type": "code",
   "execution_count": 156,
   "metadata": {},
   "outputs": [
    {
     "name": "stdout",
     "output_type": "stream",
     "text": [
      "a2 = 2\n",
      "Numerical calc.: 1.1666666666666667\n",
      "Analytical calc.: 1.1666666666666665\n",
      "Precision: 2.220446049250313e-16\n",
      "--------------\n",
      "a2 = 1\n",
      "Numerical calc.: 0.9166666666666665\n",
      "Analytical calc.: 0.9166666666666666\n",
      "Precision: 1.1102230246251565e-16\n",
      "--------------\n",
      "a2 = 0\n",
      "Numerical calc.: 0.6666666666666666\n",
      "Analytical calc.: 0.6666666666666666\n",
      "Precision: 0.0\n",
      "--------------\n",
      "a2 = -1\n",
      "Numerical calc.: 0.4166666666666667\n",
      "Analytical calc.: 0.41666666666666663\n",
      "Precision: 2.220446049250313e-16\n",
      "--------------\n"
     ]
    }
   ],
   "source": [
    "a0, a1 = 2, 1\n",
    "\n",
    "for a2 in [2, 1, 0, -1]:\n",
    "    print('a2 = ' + str (a2))\n",
    "    print('Numerical calc.: ' + str(H_nu()))\n",
    "    print('Analytical calc.: ' + str(a0/4 + a1/6 + a2/4))\n",
    "    print('Precision: ' + str(np.abs(1 - H_nu()/(a0/4 + a1/6 + a2/4))))\n",
    "    print('--------------')"
   ]
  },
  {
   "cell_type": "code",
   "execution_count": 148,
   "metadata": {},
   "outputs": [
    {
     "data": {
      "image/png": "[encoded data removed]",
      "text/plain": [
       "<Figure size 432x288 with 1 Axes>"
      ]
     },
     "metadata": {
      "needs_background": "light"
     },
     "output_type": "display_data"
    }
   ],
   "source": [
    "tau = np.linspace(0, 5)\n",
    "plt.plot(tau, 1/4 * S_nu(tau), 'k--', label = r'$\\frac{1}{4}\\, S_\\nu(\\tau)$')\n",
    "\n",
    "a2 = 1\n",
    "plt.plot(2/3, H_nu(), 'o', label = r'$H_\\nu(0), a_2 = 1$')\n",
    "\n",
    "a2 = 0\n",
    "plt.plot(2/3, H_nu(), 'o', label = r'$H_\\nu(0), a_2 = 0$')\n",
    "\n",
    "plt.vlines(2/3, 0, 2, 'k', ':', zorder = 0)\n",
    "plt.xticks([0, 2/3, 1, 2, 3,4], [0, r'2/3', 1, 2, 3, 4])\n",
    "plt.xlabel(r'$\\tau$')\n",
    "plt.ylabel(r'$H_\\nu$')\n",
    "\n",
    "plt.xlim(0, 5)\n",
    "plt.ylim(0.45, 1.81)\n",
    "plt.legend(loc = 'lower right')\n",
    "plt.savefig('hw4_8.1.png')"
   ]
  },
  {
   "cell_type": "code",
   "execution_count": null,
   "metadata": {},
   "outputs": [],
   "source": []
  }
 ],
 "metadata": {
  "kernelspec": {
   "display_name": "Python 3",
   "language": "python",
   "name": "python3"
  },
  "language_info": {
   "codemirror_mode": {
    "name": "ipython",
    "version": 3
   },
   "file_extension": ".py",
   "mimetype": "text/x-python",
   "name": "python",
   "nbconvert_exporter": "python",
   "pygments_lexer": "ipython3",
   "version": "3.8.5"
  }
 },
 "nbformat": 4,
 "nbformat_minor": 4
}
