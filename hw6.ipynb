{
 "cells": [
  {
   "cell_type": "markdown",
   "metadata": {},
   "source": [
    "# Homework 6\n",
    "## Astro 530 - Stellar Atmospheres"
   ]
  },
  {
   "cell_type": "code",
   "execution_count": 1,
   "metadata": {},
   "outputs": [],
   "source": [
    "import numpy as np\n",
    "import matplotlib.pyplot as plt\n",
    "import pandas as pd\n",
    "\n",
    "from scipy.interpolate import interp1d\n",
    "\n",
    "plt.rcParams['axes.xmargin'] = 0\n",
    "plt.rcParams['axes.labelsize'] = 12\n",
    "plt.rcParams['legend.fontsize'] = 11"
   ]
  },
  {
   "cell_type": "markdown",
   "metadata": {},
   "source": [
    "### 11. Partition Functions"
   ]
  },
  {
   "cell_type": "code",
   "execution_count": 2,
   "metadata": {},
   "outputs": [],
   "source": [
    "def _getPartition(species, table):\n",
    "    T = 5040 / np.linspace(0.2, 2.0, 10)\n",
    "    log_u = table.loc[species][0:10].to_numpy()\n",
    "    \n",
    "    # remove nans so scipy doesn't get mad\n",
    "    good = np.where(~np.isnan(log_u))[0]\n",
    "    T = T[good]\n",
    "    log_u = log_u[good]\n",
    "    \n",
    "    # interpolate data points\n",
    "    f = interp1d(T, log_u, fill_value = 'extrapolate')\n",
    "    return f\n",
    "    \n",
    "def partition(species, T, table):\n",
    "    if species == 'H-':\n",
    "        u = np.ones_like(T)\n",
    "    else:\n",
    "        logU = _getPartition(species, table)\n",
    "        u = 10 ** logU(T)\n",
    "    return u "
   ]
  },
  {
   "cell_type": "code",
   "execution_count": 3,
   "metadata": {},
   "outputs": [],
   "source": [
    "table = pd.read_table('./data/RepairedPartitionFunctions.txt', header=None, na_values='-', delim_whitespace=True)\n",
    "table = table.set_index(0)"
   ]
  },
  {
   "cell_type": "code",
   "execution_count": 4,
   "metadata": {},
   "outputs": [
    {
     "data": {
      "image/png": "[encoded data removed]",
      "text/plain": [
       "<Figure size 432x252 with 1 Axes>"
      ]
     },
     "metadata": {
      "needs_background": "light"
     },
     "output_type": "display_data"
    }
   ],
   "source": [
    "T = np.linspace(2500, 25000, 100)\n",
    "plt.figure(figsize = (6, 3.5))\n",
    "c = -1\n",
    "for i, s in enumerate(['H', 'He', 'He+', 'Li', 'Be', 'Be+']):\n",
    "    if '+' not in list(s):\n",
    "        c+=1\n",
    "        ls = '-'\n",
    "    else:\n",
    "        ls= '--'\n",
    "    plt.plot(T, partition(s, T, table), color = 'C' + str(c), ls = ls, label = s)\n",
    "plt.xlabel('$T$ (K)')\n",
    "plt.ylabel('$U\\,(T)$')\n",
    "plt.ylim(0.2, 5.1)\n",
    "plt.legend()\n",
    "plt.savefig('parts.png', bbox_inches = 'tight')\n",
    "plt.show()"
   ]
  },
  {
   "cell_type": "code",
   "execution_count": null,
   "metadata": {},
   "outputs": [],
   "source": []
  }
 ],
 "metadata": {
  "kernelspec": {
   "display_name": "Python 3",
   "language": "python",
   "name": "python3"
  },
  "language_info": {
   "codemirror_mode": {
    "name": "ipython",
    "version": 3
   },
   "file_extension": ".py",
   "mimetype": "text/x-python",
   "name": "python",
   "nbconvert_exporter": "python",
   "pygments_lexer": "ipython3",
   "version": "3.8.5"
  }
 },
 "nbformat": 4,
 "nbformat_minor": 4
}
