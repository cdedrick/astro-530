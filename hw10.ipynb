{
 "cells": [
  {
   "cell_type": "code",
   "execution_count": 1,
   "metadata": {},
   "outputs": [],
   "source": [
    "import numpy as np\n",
    "import matplotlib.pyplot as plt\n",
    "import pandas as pd\n",
    "\n",
    "from astropy import units as u\n",
    "from astropy import constants as c\n",
    "from scipy.special import wofz\n",
    "\n",
    "from astro530 import partition, saha_phi, P_e, K_total, KH_bf, KH_ff, KHminus_bf, KHminus_ff, K_e\n",
    "\n",
    "plt.rcParams['axes.xmargin'] = 0\n",
    "plt.rcParams['axes.labelsize'] = 13\n",
    "plt.rcParams['xtick.labelsize'] = 10\n",
    "plt.rcParams['ytick.labelsize'] = 10\n",
    "plt.rcParams['legend.fontsize'] = 10\n",
    "plt.rcParams['xtick.direction'] = 'in'\n",
    "plt.rcParams['ytick.direction'] = 'in'\n",
    "\n",
    "e = c.e.esu"
   ]
  },
  {
   "cell_type": "code",
   "execution_count": 2,
   "metadata": {},
   "outputs": [],
   "source": [
    "u_table = pd.read_table('./data/RepairedPartitionFunctions.txt', header=None, na_values='-', delim_whitespace=True)\n",
    "u_table = u_table.set_index(0)\n",
    "\n",
    "i_table = pd.read_table('./data/nist_ioniz.txt', header=None , delim_whitespace= True)\n",
    "i_table = i_table.set_index(1)\n",
    "\n",
    "A_table = pd.read_table('./data/SolarAbundance.txt', delim_whitespace= True)\n",
    "A_table.dropna(inplace=True)\n",
    "\n",
    "elements = A_table['element'].to_list()\n",
    "elements.remove('Cs')\n",
    "\n",
    "A_table = A_table.set_index('element')\n",
    "\n",
    "VALIIIC = np.loadtxt('./data/VALIIIC_sci_e.txt').T"
   ]
  },
  {
   "cell_type": "code",
   "execution_count": 3,
   "metadata": {},
   "outputs": [],
   "source": [
    "weight = A_table['weight']\n",
    "m_Na = weight['Na'] * u.u\n",
    "\n",
    "I_Na = i_table.loc['Na'][3] * u.eV"
   ]
  },
  {
   "cell_type": "code",
   "execution_count": 4,
   "metadata": {},
   "outputs": [],
   "source": [
    "def gamma_4(log_C4, Pe, T):\n",
    "    Pe = Pe / u.barye\n",
    "    T = T / u.K\n",
    "    log_gamma4 = 19 + 2/3 * log_C4 + np.log10(Pe) - 5/6 * np.log10(T)\n",
    "    return 10 ** log_gamma4 * 1/u.s\n",
    "\n",
    "def C_6(l0, I):\n",
    "    chi_l = (c.h * c.c / l0).to(u.eV).value\n",
    "    I = I.to(u.eV).value\n",
    "    C6 = 0.3e-30 * (1/(I - chi_l)**2 - 1/I**2)\n",
    "    return C6\n",
    "\n",
    "def gamma_6(C6, Pg, T):\n",
    "    Pg = Pg / u.barye\n",
    "    T = T / u.K\n",
    "    log_gamma6 = 20 + 0.4 * np.log10(C6) + np.log10(Pg) - 0.7 * np.log10(T)\n",
    "    return 10 ** log_gamma6 * 1/u.s\n",
    "\n",
    "def gamma(l0, Pg, Pe, T, A_ul, log_C4, I = I_Na):\n",
    "    gamma_rad = A_ul\n",
    "    gamma4 = gamma_4(log_C4, Pe, T)\n",
    "    gamma6 = gamma_6(C_6(l0, I), Pg, T)\n",
    "    \n",
    "    return gamma_rad + gamma4 + gamma6"
   ]
  },
  {
   "cell_type": "code",
   "execution_count": 5,
   "metadata": {},
   "outputs": [],
   "source": [
    "def delta_nuD(nu0, T, micro):\n",
    "    therm = 2 * c.k_B * T / m_Na\n",
    "    return nu0 / c.c * np.sqrt(therm + micro**2)"
   ]
  },
  {
   "cell_type": "code",
   "execution_count": 6,
   "metadata": {},
   "outputs": [],
   "source": [
    "def H_a(g, D_nu_D):\n",
    "    return g /(4 * np.pi * D_nu_D)\n",
    "\n",
    "def H_u(nu, nu0, D_nu_D):\n",
    "    return (nu - nu0) / D_nu_D"
   ]
  },
  {
   "cell_type": "code",
   "execution_count": 7,
   "metadata": {},
   "outputs": [],
   "source": [
    "def Voigt(u, a, Dnu):\n",
    "    return np.real(wofz(u + 1j*a)) / (np.sqrt(np.pi) * Dnu) "
   ]
  },
  {
   "cell_type": "code",
   "execution_count": 8,
   "metadata": {},
   "outputs": [],
   "source": [
    "def osc_f(l, g_l, g_u, A):\n",
    "    A_gray = A / (4 * np.pi)\n",
    "    l = l.to(u.AA).value\n",
    "    return 1.884e-15 * g_u / g_l * l**2 * A_gray.value\n",
    "\n",
    "def alpha_line(l, l0, T, Pg, Pe, A_ul, g_l, g_u, log_C4, micro):\n",
    "    nu0 = c.c / l0\n",
    "    nu = c.c / l\n",
    "    \n",
    "    g = gamma(l0, Pg, Pe, T, A_ul, log_C4).to(u.Hz)\n",
    "    Dnu = delta_nuD(nu0, T, xi_micro).to(u.Hz)\n",
    "    \n",
    "    a = H_a(g, Dnu)\n",
    "    v = H_u(nu, nu0, Dnu)\n",
    "    \n",
    "    f = osc_f(l, g_l, g_u, A_ul)\n",
    "    \n",
    "    return Voigt(v, a, Dnu) * np.pi * e**2/(c.m_e * c.c) * f"
   ]
  },
  {
   "cell_type": "code",
   "execution_count": 9,
   "metadata": {},
   "outputs": [],
   "source": [
    "tau_500 = VALIIIC[2]\n",
    "\n",
    "T = VALIIIC[3][48] * u.K\n",
    "Pg = VALIIIC[7][48] * VALIIIC[8][48] * u.barye\n",
    "Pe = P_e(T, Pg, A_table, i_table, u_table, elements)\n",
    "xi_micro = VALIIIC[4][48] * u.km/u.s\n",
    "rho = VALIIIC[9][48] * u.g/u.cm**3\n",
    "nH = nH = VALIIIC[5][48] * u.cm**-3"
   ]
  },
  {
   "cell_type": "code",
   "execution_count": 10,
   "metadata": {},
   "outputs": [],
   "source": [
    "wvlen = np.linspace(5876, 5911, 1000) * u.AA\n",
    "log_C4 = np.array([-15.17, -15.33])\n",
    "A_ul = np.array([0.616, 0.614]) * 10**8 * 1/u.s\n",
    "g_l = np.array([2, 2])\n",
    "g_u = np.array([2, 4])\n",
    "\n",
    "wvlen_0 = np.array([5889.959, 5895.932]) * u.AA"
   ]
  },
  {
   "cell_type": "code",
   "execution_count": 11,
   "metadata": {},
   "outputs": [
    {
     "name": "stdout",
     "output_type": "stream",
     "text": [
      "lambda_0 = 5889.959 Angstrom\n",
      "log(gamma_4) = 7.46\n",
      "log(gamma_6) = 9.72\n",
      "Dlambda_D = 0.0527\n",
      "Stim. emission factor = 0.978\n",
      "\n",
      "\n",
      "lambda_0 = 5895.932 Angstrom\n",
      "log(gamma_4) = 7.36\n",
      "log(gamma_6) = 9.72\n",
      "Dlambda_D = 0.0528\n",
      "Stim. emission factor = 0.978\n",
      "\n",
      "\n"
     ]
    }
   ],
   "source": [
    "nu0 = c.c / wvlen_0\n",
    "Dlambda = c.c / nu0**2 * (delta_nuD(nu0, T, xi_micro))\n",
    "for i in range(2):\n",
    "    print('lambda_0 = ' + str(wvlen_0[i]))\n",
    "    print('log(gamma_4) = ' + '{:.2f}'.format(np.log10(gamma_4(log_C4, Pe, T).value)[i]))\n",
    "    print('log(gamma_6) = ' + '{:.2f}'.format(np.log10(gamma_6(C_6(wvlen_0, I_Na), Pg, T).value)[i]))\n",
    "    print('Dlambda_D = ' + '{:.4f}'.format(Dlambda.to(u.AA)[i].value))\n",
    "    print('Stim. emission factor = ' + '{:.3f}'.format(1 - np.exp(-c.h * c.c / (wvlen_0[i] * c.k_B * T))))\n",
    "    print('\\n')"
   ]
  },
  {
   "cell_type": "code",
   "execution_count": 12,
   "metadata": {},
   "outputs": [
    {
     "data": {
      "text/plain": [
       "Text(0.5, 0, '$\\\\lambda [\\\\AA]$')"
      ]
     },
     "execution_count": 12,
     "metadata": {},
     "output_type": "execute_result"
    },
    {
     "data": {
      "image/png": "[encoded data removed]",
      "text/plain": [
       "<Figure size 432x288 with 1 Axes>"
      ]
     },
     "metadata": {
      "needs_background": "light"
     },
     "output_type": "display_data"
    }
   ],
   "source": [
    "alpha_D2 = alpha_line(wvlen, wvlen_0[0], T, Pg, Pe, A_ul[0], 2, 4, log_C4[0], xi_micro).cgs.value\n",
    "alpha_D1 = alpha_line(wvlen, wvlen_0[1], T, Pg, Pe, A_ul[1], 2, 2, log_C4[1], xi_micro).cgs.value\n",
    "\n",
    "plt.plot(wvlen, np.log10(alpha_D1))\n",
    "plt.plot(wvlen, np.log10(alpha_D2))\n",
    "plt.ylabel(r'$\\log \\alpha^\\ell_\\nu$ [cm$^2$]')\n",
    "plt.xlabel(r'$\\lambda [\\AA]$')"
   ]
  },
  {
   "cell_type": "code",
   "execution_count": 13,
   "metadata": {},
   "outputs": [
    {
     "name": "stdout",
     "output_type": "stream",
     "text": [
      "Ground fraction: 0.8635\n",
      "Neutral fraction: 6.375e-04\n"
     ]
    }
   ],
   "source": [
    "A_Na = A_table['A']['Na']\n",
    "f_e = 2/partition('Na', T, u_table)\n",
    "print('Ground fraction: {:.4f}'.format(f_e))\n",
    "Phi_Na = saha_phi('Na', T, i_table, u_table)\n",
    "\n",
    "f_i = 1 / (1 + Phi_Na / Pe)\n",
    "print('Neutral fraction: {:.3e}'.format(f_i))\n",
    "\n",
    "def K_NaD1(l):\n",
    "    alpha = alpha_line(l, wvlen_0[1], T, Pg, Pe, A_ul[1], 2, 2, log_C4[1], xi_micro).cgs \n",
    "    stim = 1 - np.exp(-c.h * c.c / (l * c.k_B * T))\n",
    "    return alpha * nH / rho * A_Na * f_e * f_i * stim\n",
    "\n",
    "def K_NaD2(l):\n",
    "    alpha = alpha_line(l, wvlen_0[0], T, Pg, Pe, A_ul[0], 2, 4, log_C4[0], xi_micro).cgs \n",
    "    stim = 1 - np.exp(-c.h * c.c / (l * c.k_B * T))\n",
    "    return alpha * nH / rho * A_Na * f_e * f_i * stim"
   ]
  },
  {
   "cell_type": "code",
   "execution_count": 14,
   "metadata": {},
   "outputs": [],
   "source": [
    "A_j = A_table.loc[elements]['A'].to_numpy()\n",
    "mu = np.sum(A_table.loc[elements]['A'] * A_table.loc[elements]['weight'] * u.u).cgs\n",
    "\n",
    "def to_cm2g(K, T, Pe, mu, H=True):\n",
    "    if H:\n",
    "        Phi_H = saha_phi('H', T, i_table, u_table)\n",
    "        neutral_H = 1 / (1 + Phi_H / Pe)\n",
    "        K *= neutral_H \n",
    "    per_g = K / mu\n",
    "    return per_g"
   ]
  },
  {
   "cell_type": "code",
   "execution_count": 15,
   "metadata": {},
   "outputs": [],
   "source": [
    "naD1 = K_NaD1(wvlen).cgs.value\n",
    "naD2 = K_NaD2(wvlen).cgs.value\n",
    "\n",
    "continuum = u.Quantity([K_total(wvlen[i], T, Pg, Pe, A_table, i_table, u_table, elements) for i in range(len(wvlen))]).cgs.value\n",
    "\n",
    "Hbf = to_cm2g(KH_bf(wvlen, T, i_table), T, Pe, mu).cgs.value\n",
    "Hff = to_cm2g(KH_ff(wvlen, T, i_table), T, Pe, mu).cgs.value\n",
    "Hminus_bf = to_cm2g(KHminus_bf(wvlen, T, Pe), T, Pe, mu).cgs.value\n",
    "Hminus_ff = to_cm2g(KHminus_ff(wvlen, T, Pe), T, Pe, mu).cgs.value\n",
    "electrons = to_cm2g(K_e(Pg, Pe, A_j), T, Pe, mu, H=False).cgs.value"
   ]
  },
  {
   "cell_type": "code",
   "execution_count": 18,
   "metadata": {},
   "outputs": [
    {
     "name": "stdout",
     "output_type": "stream",
     "text": [
      "5890\t 5893\t 5896\n",
      "1.89e-04 1.90e-04 1.90e-04\n",
      "7.73e-04 7.77e-04 7.81e-04\n",
      "\n",
      "\n",
      "K(continuum) = 0.7878 cm2 / g\n",
      "K(H-_bf) = 0.7411 cm2 / g\n",
      "K(H-_ff) = 0.04878 cm2 / g\n",
      "K(H_bf) = 0.01268 cm2 / g\n",
      "K(H_ff) = 0.0004507 cm2 / g\n",
      "K(e-) = 0.000157 cm2 / g\n",
      "\n",
      "\n",
      "K(continuum) = 0.7881 cm2 / g\n",
      "K(H-_bf) = 0.7414 cm2 / g\n",
      "K(H-_ff) = 0.04882 cm2 / g\n",
      "K(H_bf) = 0.0127 cm2 / g\n",
      "K(H_ff) = 0.0004513 cm2 / g\n",
      "K(e-) = 0.000157 cm2 / g\n",
      "\n",
      "\n",
      "K(continuum) = 0.7885 cm2 / g\n",
      "K(H-_bf) = 0.7417 cm2 / g\n",
      "K(H-_ff) = 0.04886 cm2 / g\n",
      "K(H_bf) = 0.01272 cm2 / g\n",
      "K(H_ff) = 0.000452 cm2 / g\n",
      "K(e-) = 0.000157 cm2 / g\n",
      "\n",
      "\n"
     ]
    }
   ],
   "source": [
    "l = np.array([5889.959, 5893, 5895.932]) * u.AA\n",
    "\n",
    "K_NaD1_l = K_NaD1(wvlen).cgs.value\n",
    "K_NaD2_l = K_NaD2(wvlen).cgs.value\n",
    "\n",
    "print('\\t '.join(['{:.0f}'.format(l[i].value) for i in range(3)]))\n",
    "print(' '.join(['{:.2e}'.format(K_NaD1_l[i]) for i in range(3)]))\n",
    "print(' '.join(['{:.2e}'.format(K_NaD2_l[i]) for i in range(3)]))\n",
    "print('\\n')\n",
    "\n",
    "Kc = u.Quantity([K_total(l[i], T, Pg, Pe, A_table, i_table, u_table, elements, verbose=True) for i in range(len(l))]).cgs.value"
   ]
  },
  {
   "cell_type": "code",
   "execution_count": 17,
   "metadata": {},
   "outputs": [
    {
     "data": {
      "image/png": "[encoded data removed]",
      "text/plain": [
       "<Figure size 520x320 with 1 Axes>"
      ]
     },
     "metadata": {
      "needs_background": "light"
     },
     "output_type": "display_data"
    }
   ],
   "source": [
    "plt.figure(figsize=(6.5,4), dpi=80)\n",
    "plt.plot(wvlen, np.log10(naD1),c='tomato', ls=':')\n",
    "plt.text(5890, 3.25, 'NaD$_2$', ha='center', color='tomato', size=11)\n",
    "\n",
    "plt.plot(wvlen, np.log10(naD2),c='tomato', ls='--')\n",
    "plt.text(5896, 2.9, 'NaD$_1$', ha='center', color='tomato', size=11)\n",
    "\n",
    "plt.plot(wvlen, np.log10(naD1 + naD2), c='lightsalmon', lw=2, zorder=0, label =r'Line opacity')\n",
    "\n",
    "plt.plot(wvlen, np.log10(Hbf), 'C7--')\n",
    "plt.text(5880, -2, r'H$_{bf}$', ha='center', color='C7', size=11, bbox=dict(boxstyle='Square, pad=0.1', color='white'))\n",
    "\n",
    "plt.plot(wvlen, np.log10(Hff), 'C7-.')\n",
    "plt.text(5880, -1.5, r'H$_{ff}$', ha='center', color='C7', size=11, bbox=dict(boxstyle='Square, pad=0.1', color='white'))\n",
    "\n",
    "plt.plot(wvlen, np.log10(Hminus_bf),'C7--', lw=2)\n",
    "plt.text(5880, -0.6, r'H$^-_{bf}$', ha='center', color='C7', size=11, bbox=dict(boxstyle='Square, pad=0.1', color='white', alpha=0.8))\n",
    "\n",
    "plt.plot(wvlen, np.log10(Hminus_ff),'C7-')\n",
    "plt.text(5880, -3.4, r'H$^-_{ff}$', ha='center', color='C7', size=11, bbox=dict(boxstyle='Square, pad=0.1', color='white'))\n",
    "\n",
    "plt.hlines(np.log10(electrons), 5876, 5911, 'C7', ':')\n",
    "plt.text(5880, -3.95, r'$e^-$', ha='center', color='C7', size=11, bbox=dict(boxstyle='Square, pad=0.1', color='white'))\n",
    "\n",
    "plt.plot(wvlen, np.log10(continuum), c='silver', ls = '-', label =r'Continuum opacity',lw=2)\n",
    "\n",
    "#plt.plot(wvlen, np.log10(naD1 + naD2 + continuum), 'k-', lw=1, label =r'$\\kappa_{tot}$')\n",
    "plt.ylabel(r'$\\log \\kappa_\\nu$')\n",
    "plt.xlabel(r'$\\lambda [\\AA]$')\n",
    "\n",
    "plt.ylim(-4.3, 3.8)\n",
    "\n",
    "plt.legend(loc = (0.63, 0.69))\n",
    "\n",
    "plt.savefig('NaD_kappa.png', bbox_inches='tight')\n",
    "plt.show()"
   ]
  },
  {
   "cell_type": "code",
   "execution_count": null,
   "metadata": {},
   "outputs": [],
   "source": []
  }
 ],
 "metadata": {
  "kernelspec": {
   "display_name": "Python 3",
   "language": "python",
   "name": "python3"
  },
  "language_info": {
   "codemirror_mode": {
    "name": "ipython",
    "version": 3
   },
   "file_extension": ".py",
   "mimetype": "text/x-python",
   "name": "python",
   "nbconvert_exporter": "python",
   "pygments_lexer": "ipython3",
   "version": "3.8.5"
  }
 },
 "nbformat": 4,
 "nbformat_minor": 4
}
