{
 "cells": [
  {
   "cell_type": "code",
   "execution_count": 1,
   "metadata": {},
   "outputs": [],
   "source": [
    "import numpy as np\n",
    "import matplotlib.pyplot as plt\n",
    "import pandas as pd\n",
    "\n",
    "from astropy import units as u\n",
    "from astropy import constants as c\n",
    "e = c.e.esu\n",
    "\n",
    "from scipy.special import wofz\n",
    "\n",
    "from astro530 import partition, saha_phi, P_e, K_total, KH_bf, KH_ff, KHminus_bf, KHminus_ff, K_e\n",
    "\n",
    "plt.rcParams['axes.xmargin'] = 0\n",
    "plt.rcParams['axes.labelsize'] = 13\n",
    "plt.rcParams['xtick.labelsize'] = 10\n",
    "plt.rcParams['ytick.labelsize'] = 10\n",
    "plt.rcParams['legend.fontsize'] = 10\n",
    "plt.rcParams['xtick.direction'] = 'in'\n",
    "plt.rcParams['ytick.direction'] = 'in'"
   ]
  },
  {
   "cell_type": "code",
   "execution_count": 2,
   "metadata": {},
   "outputs": [],
   "source": [
    "u_table = pd.read_table('./data/RepairedPartitionFunctions.txt', header=None, na_values='-', delim_whitespace=True)\n",
    "u_table = u_table.set_index(0)\n",
    "\n",
    "i_table = pd.read_table('./data/nist_ioniz.txt', header=None , delim_whitespace= True)\n",
    "i_table = i_table.set_index(1)\n",
    "\n",
    "A_table = pd.read_table('./data/SolarAbundance.txt', delim_whitespace= True)\n",
    "A_table.dropna(inplace=True)\n",
    "\n",
    "elements = A_table['element'].to_list()\n",
    "elements.remove('Cs')\n",
    "\n",
    "A_table = A_table.set_index('element')\n",
    "\n",
    "VALIIIC = pd.read_pickle('./data/VALIIIC_atm.pkl')"
   ]
  },
  {
   "cell_type": "code",
   "execution_count": 3,
   "metadata": {},
   "outputs": [],
   "source": [
    "weight = A_table['weight']\n",
    "m_Na = weight['Na'] * u.u\n",
    "\n",
    "I_Na = i_table.loc['Na'][3] * u.eV\n",
    "\n",
    "D_lines = np.array([5895.932, 5889.959]) * u.AA"
   ]
  },
  {
   "cell_type": "code",
   "execution_count": 4,
   "metadata": {},
   "outputs": [
    {
     "name": "stdout",
     "output_type": "stream",
     "text": [
      "[-31.67399329 -31.67305612]\n"
     ]
    }
   ],
   "source": [
    "def C_6(l0, I):\n",
    "    chi_l = (c.h * c.c / l0).to(u.eV).value\n",
    "    I = I.to(u.eV).value\n",
    "    C6 = 0.3e-30 * (1/(I - chi_l)**2 - 1/I**2)\n",
    "    return C6\n",
    "\n",
    "print(np.log10(C_6(D_lines, I_Na)))"
   ]
  },
  {
   "cell_type": "code",
   "execution_count": 5,
   "metadata": {},
   "outputs": [],
   "source": [
    "def gamma_4(T, Pe, log_C4):\n",
    "    Pe = Pe / u.barye\n",
    "    T = T / u.K\n",
    "    log_gamma4 = 19 + 2/3 * log_C4 + np.log10(Pe) - 5/6 * np.log10(T)\n",
    "    return 10 ** log_gamma4 * 1/u.s\n",
    "\n",
    "def gamma_6(T, Pg, log_C6):\n",
    "    Pg = Pg / u.barye\n",
    "    T = T / u.K\n",
    "    log_gamma6 = 20 + 0.4 * log_C6 + np.log10(Pg) - 0.7 * np.log10(T)\n",
    "    return 10 ** log_gamma6 * 1/u.s\n",
    "\n",
    "\n",
    "def gamma(T, Pg, Pe, A_ul,log_C4, log_C6):\n",
    "    gamma_rad = A_ul\n",
    "    gamma4 = gamma_4(T, Pe,log_C4)\n",
    "    gamma6 = gamma_6(T, Pg, log_C6)\n",
    "    return gamma_rad + gamma4 + gamma6"
   ]
  },
  {
   "cell_type": "code",
   "execution_count": 6,
   "metadata": {},
   "outputs": [],
   "source": [
    "def gaussian_width(l0, T, micro):\n",
    "    m_Na = 22.99 * u.u\n",
    "    therm = 2 * c.k_B * T / m_Na\n",
    "    return l0 / c.c * np.sqrt(therm + micro**2)"
   ]
  },
  {
   "cell_type": "code",
   "execution_count": 7,
   "metadata": {},
   "outputs": [],
   "source": [
    "def Hjerting(u, a):\n",
    "    return np.real(wofz(u + 1j*a)) "
   ]
  },
  {
   "cell_type": "code",
   "execution_count": 56,
   "metadata": {},
   "outputs": [],
   "source": [
    "def osc_f(l, g_l, g_u, A_ul):\n",
    "    A_gray = A_ul/ (4 * np.pi)\n",
    "    l = l.to(u.AA).value\n",
    "    return 1.884e-15 * g_u / g_l * l**2 * A_gray.value\n",
    "\n",
    "def alpha_NaD(l, T, Pg, Pe, micro, which):\n",
    "    \n",
    "    i = which - 1\n",
    "    \n",
    "    l0 = np.array([5895.932, 5889.959]) * u.AA\n",
    "    A_ul = np.array([0.614, 0.616]) * 10 ** 8 * 1/u.s\n",
    "    log_C4 = np.array([-15.33, -15.17])\n",
    "    log_C6 = np.array([-31.673, -31.674])\n",
    "    \n",
    "    g_l = np.array([2, 2]) \n",
    "    g_u = np.array([2, 4])\n",
    "    \n",
    "    g = gamma(T, Pg, Pe, A_ul[i], log_C4[i], log_C6[i]) / c.c * l0[i]**2\n",
    "    Dl = gaussian_width(l0[i], T, micro) \n",
    "    \n",
    "    a = g /(4 * np.pi * Dl)\n",
    "    v = (l - l0[i]) / Dl\n",
    "\n",
    "    H = Hjerting(v, a)  \n",
    "    \n",
    "    f = osc_f(l,g_l[i], g_u[i], A_ul[i])\n",
    "    \n",
    "    return np.sqrt(np.pi) * e**2 / (c.m_e * c.c**2) * f * H / Dl * l0[i]**2"
   ]
  },
  {
   "cell_type": "code",
   "execution_count": 57,
   "metadata": {},
   "outputs": [],
   "source": [
    "tau_500 = VALIIIC['tau_500']\n",
    "\n",
    "T = VALIIIC['T'][48] * u.K\n",
    "Pg = VALIIIC['Pgas/Ptotal'][48] * VALIIIC['Ptotal'][48] * u.barye\n",
    "Pe = P_e(T, Pg, A_table, i_table, u_table, elements)\n",
    "micro = VALIIIC['V'][48] * u.km/u.s\n",
    "rho = VALIIIC['rho'][48] * u.g/u.cm**3\n",
    "nH = VALIIIC['n_H'][48] * u.cm**-3"
   ]
  },
  {
   "cell_type": "code",
   "execution_count": 58,
   "metadata": {},
   "outputs": [],
   "source": [
    "wvlen = np.linspace(5876, 5911, 1000) * u.AA"
   ]
  },
  {
   "cell_type": "code",
   "execution_count": 59,
   "metadata": {},
   "outputs": [
    {
     "name": "stdout",
     "output_type": "stream",
     "text": [
      "lambda_0 = 5895.932 Angstrom\n",
      "Dlambda_D = 0.0528\n",
      "Stim. emission factor = 0.978\n",
      "\n",
      "\n",
      "lambda_0 = 5889.959 Angstrom\n",
      "Dlambda_D = 0.0527\n",
      "Stim. emission factor = 0.978\n",
      "\n",
      "\n"
     ]
    }
   ],
   "source": [
    "Dlambda = gaussian_width(D_lines, T, micro)\n",
    "for i in range(2):\n",
    "    print('lambda_0 = ' + str(D_lines[i]))\n",
    "    print('Dlambda_D = ' + '{:.4f}'.format(Dlambda.to(u.AA)[i].value))\n",
    "    print('Stim. emission factor = ' + '{:.3f}'.format(1 - np.exp(-c.h * c.c / (D_lines[i] * c.k_B * T))))\n",
    "    print('\\n')"
   ]
  },
  {
   "cell_type": "code",
   "execution_count": 60,
   "metadata": {},
   "outputs": [],
   "source": [
    "alpha_NaD1 = alpha_NaD(wvlen, T, Pg, Pe, micro, 1).cgs.value\n",
    "alpha_NaD2 = alpha_NaD(wvlen, T, Pg, Pe, micro, 2).cgs.value"
   ]
  },
  {
   "cell_type": "code",
   "execution_count": 61,
   "metadata": {},
   "outputs": [
    {
     "data": {
      "image/png": "[encoded data removed]",
      "text/plain": [
       "<Figure size 432x288 with 1 Axes>"
      ]
     },
     "metadata": {
      "needs_background": "light"
     },
     "output_type": "display_data"
    }
   ],
   "source": [
    "plt.plot(wvlen, alpha_NaD1)\n",
    "plt.plot(wvlen, alpha_NaD2)\n",
    "plt.ylabel(r'$\\log \\alpha^\\ell_\\nu$ [cm$^2$]')\n",
    "plt.xlabel(r'$\\lambda [\\AA]$')\n",
    "plt.show()"
   ]
  },
  {
   "cell_type": "code",
   "execution_count": 62,
   "metadata": {},
   "outputs": [],
   "source": [
    "def K_NaD(l, T, Pg, Pe, micro, which):\n",
    "    A_Na = 2.14e-6\n",
    "    f_e = 2/partition('Na', T, u_table)\n",
    "    Phi_Na = saha_phi('Na', T, i_table, u_table)\n",
    "    f_i = 1 / (1 + Phi_Na / Pe)\n",
    "    \n",
    "    alpha = alpha_NaD(l, T, Pg, Pe, micro, which).cgs \n",
    "    stim = 1 - np.exp(-c.h * c.c / (l * c.k_B * T))\n",
    "    return alpha * nH / rho * A_Na * f_e * f_i * stim"
   ]
  },
  {
   "cell_type": "code",
   "execution_count": 63,
   "metadata": {},
   "outputs": [],
   "source": [
    "A_j = A_table.loc[elements]['A'].to_numpy()\n",
    "mu = np.sum(A_table.loc[elements]['A'] * A_table.loc[elements]['weight'] * u.u).cgs\n",
    "\n",
    "def to_cm2g(K, T, Pe, mu, H=True):\n",
    "    if H:\n",
    "        Phi_H = saha_phi('H', T, i_table, u_table)\n",
    "        neutral_H = 1 / (1 + Phi_H / Pe)\n",
    "        K *= neutral_H \n",
    "    per_g = K / mu\n",
    "    return per_g"
   ]
  },
  {
   "cell_type": "code",
   "execution_count": 64,
   "metadata": {},
   "outputs": [],
   "source": [
    "naD1 = K_NaD(wvlen, T, Pg, Pe, micro, 1).cgs.value\n",
    "naD2 = K_NaD(wvlen, T, Pg, Pe, micro, 2).cgs.value\n",
    "\n",
    "continuum = u.Quantity([K_total(wvlen[i], T, Pg, Pe, A_table, i_table, u_table, elements) for i in range(len(wvlen))]).cgs.value\n",
    "\n",
    "Hbf = to_cm2g(KH_bf(wvlen, T, i_table), T, Pe, mu).cgs.value\n",
    "Hff = to_cm2g(KH_ff(wvlen, T, i_table), T, Pe, mu).cgs.value\n",
    "Hminus_bf = to_cm2g(KHminus_bf(wvlen, T, Pe), T, Pe, mu).cgs.value\n",
    "Hminus_ff = to_cm2g(KHminus_ff(wvlen, T, Pe), T, Pe, mu).cgs.value\n",
    "electrons = to_cm2g(K_e(Pg, Pe, A_j), T, Pe, mu, H=False).cgs.value"
   ]
  },
  {
   "cell_type": "code",
   "execution_count": 53,
   "metadata": {},
   "outputs": [],
   "source": [
    "# l = np.array([5889.959, 5893, 5895.932]) * u.AA\n",
    "\n",
    "# K_NaD1_l = K_NaD1(wvlen).cgs.value\n",
    "# K_NaD2_l = K_NaD2(wvlen).cgs.value\n",
    "\n",
    "# print('\\t '.join(['{:.0f}'.format(l[i].value) for i in range(3)]))\n",
    "# print(' '.join(['{:.2e}'.format(K_NaD1_l[i]) for i in range(3)]))\n",
    "# print(' '.join(['{:.2e}'.format(K_NaD2_l[i]) for i in range(3)]))\n",
    "# print('\\n')\n",
    "\n",
    "# Kc = u.Quantity([K_total(l[i], T, Pg, Pe, A_table, i_table, u_table, elements, verbose=True) for i in range(len(l))]).cgs.value"
   ]
  },
  {
   "cell_type": "code",
   "execution_count": 65,
   "metadata": {},
   "outputs": [
    {
     "data": {
      "image/png": "[encoded data removed]",
      "text/plain": [
       "<Figure size 650x400 with 1 Axes>"
      ]
     },
     "metadata": {
      "needs_background": "light"
     },
     "output_type": "display_data"
    }
   ],
   "source": [
    "plt.figure(figsize=(6.5,4), dpi=100)\n",
    "plt.plot(wvlen, np.log10(naD1),c='tomato', ls=':')\n",
    "plt.text(5890, 3.25, 'NaD$_2$', ha='center', color='tomato', size=11)\n",
    "\n",
    "plt.plot(wvlen, np.log10(naD2),c='tomato', ls='--')\n",
    "plt.text(5896, 2.9, 'NaD$_1$', ha='center', color='tomato', size=11)\n",
    "\n",
    "plt.plot(wvlen, np.log10(naD1 + naD2), c='lightsalmon', lw=1, zorder=0, label =r'Line opacity')\n",
    "\n",
    "plt.plot(wvlen, np.log10(Hbf), 'C7--')\n",
    "plt.text(5880, -2.1, r'H$_{bf}$', ha='center', color='C7', size=11, bbox=dict(boxstyle='Square, pad=0.1', color='white'), zorder=10)\n",
    "\n",
    "plt.plot(wvlen, np.log10(Hff), 'C7--')\n",
    "plt.text(5880, -3.4, r'H$_{ff}$', ha='center', color='C7', size=11, bbox=dict(boxstyle='Square, pad=0.1', color='white'))\n",
    "\n",
    "\n",
    "plt.plot(wvlen, np.log10(Hminus_bf),'C7--', lw=2)\n",
    "plt.text(5880, -0.6, r'H$^-_{bf}$', ha='center', color='C7', size=11, bbox=dict(boxstyle='Square, pad=0.1', color='white', alpha=0.8))\n",
    "\n",
    "plt.plot(wvlen, np.log10(Hminus_ff),'C7--')\n",
    "plt.text(5880, -1.4, r'H$^-_{ff}$', ha='center', color='C7', size=11, bbox=dict(boxstyle='Square, pad=0.1', color='white'))\n",
    "\n",
    "\n",
    "plt.hlines(np.log10(electrons), 5876, 5911, 'C7', '--')\n",
    "plt.text(5880, -3.95, r'$e^-$', ha='center', color='C7', size=11, bbox=dict(boxstyle='Square, pad=0.1', color='white'))\n",
    "\n",
    "plt.plot(wvlen, np.log10(continuum), c='silver', ls = '-', label =r'Continuum opacity',lw=2.5, )\n",
    "\n",
    "#plt.plot(wvlen, np.log10(naD1 + naD2 + continuum), 'k-', lw=1, label =r'$\\kappa_{tot}$')\n",
    "plt.ylabel(r'$\\log \\kappa_\\lambda$')\n",
    "plt.xlabel(r'$\\lambda [\\AA]$')\n",
    "\n",
    "plt.ylim(-4.3, 3.8)\n",
    "\n",
    "plt.legend(loc = (0.63, 0.69))\n",
    "\n",
    "plt.savefig('NaD_kappa.png', bbox_inches='tight')\n",
    "plt.show()"
   ]
  },
  {
   "cell_type": "code",
   "execution_count": null,
   "metadata": {},
   "outputs": [],
   "source": []
  },
  {
   "cell_type": "code",
   "execution_count": null,
   "metadata": {},
   "outputs": [],
   "source": []
  }
 ],
 "metadata": {
  "kernelspec": {
   "display_name": "Python 3",
   "language": "python",
   "name": "python3"
  },
  "language_info": {
   "codemirror_mode": {
    "name": "ipython",
    "version": 3
   },
   "file_extension": ".py",
   "mimetype": "text/x-python",
   "name": "python",
   "nbconvert_exporter": "python",
   "pygments_lexer": "ipython3",
   "version": "3.8.5"
  }
 },
 "nbformat": 4,
 "nbformat_minor": 4
}
